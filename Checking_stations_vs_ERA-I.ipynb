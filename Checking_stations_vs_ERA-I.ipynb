{
 "cells": [
  {
   "cell_type": "markdown",
   "metadata": {},
   "source": [
    "# Imports"
   ]
  },
  {
   "cell_type": "code",
   "execution_count": 1,
   "metadata": {},
   "outputs": [],
   "source": [
    "from traj_check import trajcheck\n",
    "\n",
    "# traj_plot not working due to problem with basemap\n",
    "import numpy as np\n",
    "import matplotlib.pyplot as plt\n",
    "import seaborn as sns\n",
    "%matplotlib inline\n",
    "from datetime import datetime\n",
    "import metpy.calc as mcalc\n",
    "from metpy.units import units\n",
    "from station_plot import plot_station\n",
    "from sounding_df import sounding_df as sd\n",
    "from sounding_finder import sounding_finder\n",
    "# Loading sounding data at sheba\n",
    "from sheba_df import sheba_df\n",
    "from meteo import spec_humidity\n",
    "from siphon.simplewebservice.igra2 import IGRAUpperAir\n",
    "from traj_plot import traj_plot\n",
    "from traj_plot_v2 import traj_plot_v2\n",
    "import xarray as xr\n",
    "import pandas as pd\n",
    "\n",
    "ds_T_jan = xr.open_dataset('/home/ollie/muali/Data/netcdf_files/T_1998-01-01-to-1998-01-31ERA-I.nc')\n",
    "ds_q_jan = xr.open_dataset('/home/ollie/muali/Data/netcdf_files/q_1998-01-01-to-1998-01-31ERA-I.nc')\n",
    "\n",
    "ds_ERA_5_jan = xr.open_dataset('/home/ollie/muali/Data/netcdf_files/T_q_g_Era-5-Jan1998.nc')\n",
    "\n",
    "# path to all trajectory files\n",
    "path_traj= '/home/ollie/muali/Data/winter_all/'"
   ]
  },
  {
   "cell_type": "code",
   "execution_count": 8,
   "metadata": {},
   "outputs": [],
   "source": [
    "pd.set_option('display.max_columns',30)"
   ]
  },
  {
   "cell_type": "markdown",
   "metadata": {},
   "source": [
    "# 4 Jan 1998 23:15\n"
   ]
  },
  {
   "cell_type": "markdown",
   "metadata": {},
   "source": [
    "## At SHEBA"
   ]
  },
  {
   "cell_type": "code",
   "execution_count": 2,
   "metadata": {},
   "outputs": [],
   "source": [
    "# sheba df 4th Jan 23:00\n",
    "df_she7 = sheba_df('/home/ollie/muali/data_work/Sounding_data/unzipped_data/1998_01_ascii/y1042316.she', dropnan=True)\n",
    "she7 = sd(df_she7)\n",
    "\n",
    "q_she7 = she7.spec_humidity()\n",
    "rh_she7 = she7.relative_humidity()\n",
    "rhi_she7 = she7.relative_humidity_ice()\n",
    "#tpw_she7 = she7.tpw()\n",
    "# throws up tuple indices error\n",
    "pot_she7 = she7.potential_t()"
   ]
  },
  {
   "cell_type": "code",
   "execution_count": 9,
   "metadata": {},
   "outputs": [
    {
     "data": {
      "text/html": [
       "<div>\n",
       "<style scoped>\n",
       "    .dataframe tbody tr th:only-of-type {\n",
       "        vertical-align: middle;\n",
       "    }\n",
       "\n",
       "    .dataframe tbody tr th {\n",
       "        vertical-align: top;\n",
       "    }\n",
       "\n",
       "    .dataframe thead th {\n",
       "        text-align: right;\n",
       "    }\n",
       "</style>\n",
       "<table border=\"1\" class=\"dataframe\">\n",
       "  <thead>\n",
       "    <tr style=\"text-align: right;\">\n",
       "      <th></th>\n",
       "      <th>Time</th>\n",
       "      <th>pressure</th>\n",
       "      <th>temperature</th>\n",
       "      <th>dewpoint</th>\n",
       "      <th>relative_humidity</th>\n",
       "      <th>Uwind</th>\n",
       "      <th>Vwind</th>\n",
       "      <th>Wspd</th>\n",
       "      <th>Dir</th>\n",
       "      <th>dZ</th>\n",
       "      <th>Lon</th>\n",
       "      <th>Lat</th>\n",
       "      <th>Rng</th>\n",
       "      <th>Az</th>\n",
       "      <th>Alt</th>\n",
       "      <th>Qp</th>\n",
       "      <th>Qt</th>\n",
       "      <th>Qh</th>\n",
       "      <th>Qu</th>\n",
       "      <th>Qv</th>\n",
       "      <th>Quv</th>\n",
       "    </tr>\n",
       "  </thead>\n",
       "  <tbody>\n",
       "    <tr>\n",
       "      <th>0</th>\n",
       "      <td>0.0</td>\n",
       "      <td>1011.0</td>\n",
       "      <td>252.25</td>\n",
       "      <td>249.45</td>\n",
       "      <td>78.6</td>\n",
       "      <td>3.7</td>\n",
       "      <td>-0.5</td>\n",
       "      <td>3.8</td>\n",
       "      <td>277.8</td>\n",
       "      <td>10.2</td>\n",
       "      <td>-149.310</td>\n",
       "      <td>74.875</td>\n",
       "      <td>999.0</td>\n",
       "      <td>999.0</td>\n",
       "      <td>19.7</td>\n",
       "      <td>99.0</td>\n",
       "      <td>99.0</td>\n",
       "      <td>99.0</td>\n",
       "      <td>99.0</td>\n",
       "      <td>99.0</td>\n",
       "      <td>99.0</td>\n",
       "    </tr>\n",
       "    <tr>\n",
       "      <th>1</th>\n",
       "      <td>1.0</td>\n",
       "      <td>1009.8</td>\n",
       "      <td>252.15</td>\n",
       "      <td>249.45</td>\n",
       "      <td>79.2</td>\n",
       "      <td>999.0</td>\n",
       "      <td>999.0</td>\n",
       "      <td>999.0</td>\n",
       "      <td>999.0</td>\n",
       "      <td>8.6</td>\n",
       "      <td>-149.310</td>\n",
       "      <td>74.875</td>\n",
       "      <td>999.0</td>\n",
       "      <td>999.0</td>\n",
       "      <td>28.6</td>\n",
       "      <td>99.0</td>\n",
       "      <td>99.0</td>\n",
       "      <td>99.0</td>\n",
       "      <td>99.0</td>\n",
       "      <td>99.0</td>\n",
       "      <td>99.0</td>\n",
       "    </tr>\n",
       "    <tr>\n",
       "      <th>2</th>\n",
       "      <td>2.0</td>\n",
       "      <td>1008.9</td>\n",
       "      <td>252.05</td>\n",
       "      <td>249.45</td>\n",
       "      <td>79.6</td>\n",
       "      <td>3.0</td>\n",
       "      <td>-0.5</td>\n",
       "      <td>3.0</td>\n",
       "      <td>279.6</td>\n",
       "      <td>6.6</td>\n",
       "      <td>-149.310</td>\n",
       "      <td>74.875</td>\n",
       "      <td>999.0</td>\n",
       "      <td>999.0</td>\n",
       "      <td>35.1</td>\n",
       "      <td>99.0</td>\n",
       "      <td>99.0</td>\n",
       "      <td>99.0</td>\n",
       "      <td>99.0</td>\n",
       "      <td>99.0</td>\n",
       "      <td>99.0</td>\n",
       "    </tr>\n",
       "    <tr>\n",
       "      <th>3</th>\n",
       "      <td>3.0</td>\n",
       "      <td>1008.2</td>\n",
       "      <td>252.05</td>\n",
       "      <td>249.35</td>\n",
       "      <td>79.7</td>\n",
       "      <td>2.8</td>\n",
       "      <td>-0.6</td>\n",
       "      <td>2.9</td>\n",
       "      <td>281.1</td>\n",
       "      <td>5.1</td>\n",
       "      <td>-149.309</td>\n",
       "      <td>74.875</td>\n",
       "      <td>999.0</td>\n",
       "      <td>999.0</td>\n",
       "      <td>40.0</td>\n",
       "      <td>99.0</td>\n",
       "      <td>99.0</td>\n",
       "      <td>99.0</td>\n",
       "      <td>99.0</td>\n",
       "      <td>99.0</td>\n",
       "      <td>99.0</td>\n",
       "    </tr>\n",
       "    <tr>\n",
       "      <th>4</th>\n",
       "      <td>4.0</td>\n",
       "      <td>1007.6</td>\n",
       "      <td>251.95</td>\n",
       "      <td>249.35</td>\n",
       "      <td>79.8</td>\n",
       "      <td>2.8</td>\n",
       "      <td>-0.6</td>\n",
       "      <td>2.9</td>\n",
       "      <td>282.9</td>\n",
       "      <td>4.0</td>\n",
       "      <td>-149.309</td>\n",
       "      <td>74.875</td>\n",
       "      <td>999.0</td>\n",
       "      <td>999.0</td>\n",
       "      <td>44.4</td>\n",
       "      <td>99.0</td>\n",
       "      <td>99.0</td>\n",
       "      <td>99.0</td>\n",
       "      <td>99.0</td>\n",
       "      <td>99.0</td>\n",
       "      <td>99.0</td>\n",
       "    </tr>\n",
       "  </tbody>\n",
       "</table>\n",
       "</div>"
      ],
      "text/plain": [
       "   Time  pressure  temperature  dewpoint  relative_humidity  Uwind  Vwind  \\\n",
       "0   0.0    1011.0       252.25    249.45               78.6    3.7   -0.5   \n",
       "1   1.0    1009.8       252.15    249.45               79.2  999.0  999.0   \n",
       "2   2.0    1008.9       252.05    249.45               79.6    3.0   -0.5   \n",
       "3   3.0    1008.2       252.05    249.35               79.7    2.8   -0.6   \n",
       "4   4.0    1007.6       251.95    249.35               79.8    2.8   -0.6   \n",
       "\n",
       "    Wspd    Dir    dZ      Lon     Lat    Rng     Az   Alt    Qp    Qt    Qh  \\\n",
       "0    3.8  277.8  10.2 -149.310  74.875  999.0  999.0  19.7  99.0  99.0  99.0   \n",
       "1  999.0  999.0   8.6 -149.310  74.875  999.0  999.0  28.6  99.0  99.0  99.0   \n",
       "2    3.0  279.6   6.6 -149.310  74.875  999.0  999.0  35.1  99.0  99.0  99.0   \n",
       "3    2.9  281.1   5.1 -149.309  74.875  999.0  999.0  40.0  99.0  99.0  99.0   \n",
       "4    2.9  282.9   4.0 -149.309  74.875  999.0  999.0  44.4  99.0  99.0  99.0   \n",
       "\n",
       "     Qu    Qv   Quv  \n",
       "0  99.0  99.0  99.0  \n",
       "1  99.0  99.0  99.0  \n",
       "2  99.0  99.0  99.0  \n",
       "3  99.0  99.0  99.0  \n",
       "4  99.0  99.0  99.0  "
      ]
     },
     "execution_count": 9,
     "metadata": {},
     "output_type": "execute_result"
    }
   ],
   "source": [
    "df_she7.head(5)"
   ]
  },
  {
   "cell_type": "code",
   "execution_count": 13,
   "metadata": {},
   "outputs": [
    {
     "data": {
      "image/png": "[encoded data removed]",
      "text/plain": [
       "<Figure size 800x1000 with 2 Axes>"
      ]
     },
     "metadata": {},
     "output_type": "display_data"
    }
   ],
   "source": [
    "fig = plt.figure(figsize=(8,10), dpi=100)\n",
    "ax1 = plt.subplot(2,2,1)\n",
    "levels_ERA_I = ds_T_jan.level.values\n",
    "levels_era5 = ds_ERA_5_jan.level.values\n",
    "\n",
    "ax1.plot(she7.T, she7.p, c='k')\n",
    "ax1.scatter(ds_T_jan.t.sel(time='1998-01-04 23:15', level=levels_ERA_I,  # ERA-I\n",
    "                                    latitude=74.875, longitude=-149.310, method='nearest').values,\n",
    "            levels_ERA_I, s=25, marker='x', color='b')\n",
    "ax1.scatter(ds_ERA_5_jan.t.sel(time='1998-01-04 23:15', level=ds_ERA_5_jan.level.values, \n",
    "                                    latitude=74.875, longitude=-149.310, method='nearest').values, \n",
    "           levels_era5, s=25, marker='x', color='r')\n",
    "\n",
    "\n",
    "ax1.invert_yaxis()\n",
    "ax1.set(ylim=[1050,450], xlim=(230,280), xlabel='Temperature (K)')\n",
    "\n",
    "ax2 = plt.subplot(2,2,2)\n",
    "ax2.plot(q_she7, she7.p, c='k', label='04 Jan 23:15 (SHEBA)')\n",
    "ax2.scatter(ds_q_jan.q.sel(time='1998-01-04 23:15', level=levels_ERA_I,  # ERA-I\n",
    "                                    latitude=74.875, longitude=-149.310, method='nearest').values * 1000, \n",
    "           levels_ERA_I, s=25, marker='x', color='b', label='ERA-I')\n",
    "\n",
    "ax2.scatter(ds_ERA_5_jan.q.sel(time='1998-01-04 23:15', level=levels_era5,   # ERA-5\n",
    "                                    latitude=74.875, longitude=-149.310, method='nearest').values * 1000, \n",
    "           levels_era5, s=25, marker='x', color='r', label='ERA-5')\n",
    "ax2.invert_yaxis()\n",
    "ax2.set(ylim=[1050,450], xlim=(0,5), xlabel='Specific humidity (g/kg)', yticks=[])\n",
    "\n",
    "plt.legend() # setting legend\n",
    "sns.despine(fig)\n",
    "sns.despine(ax=ax2, left=True )\n",
    "sns.set_style(\"ticks\")"
   ]
  },
  {
   "cell_type": "code",
   "execution_count": 16,
   "metadata": {},
   "outputs": [
    {
     "data": {
      "text/plain": [
       "array([90.  , 89.75, 89.5 , 89.25, 89.  , 88.75, 88.5 , 88.25, 88.  ,\n",
       "       87.75], dtype=float32)"
      ]
     },
     "execution_count": 16,
     "metadata": {},
     "output_type": "execute_result"
    }
   ],
   "source": [
    "ds_ERA_5_jan.latitude.values[:10]"
   ]
  },
  {
   "cell_type": "code",
   "execution_count": 17,
   "metadata": {},
   "outputs": [
    {
     "data": {
      "text/plain": [
       "array([90.  , 89.25, 88.5 , 87.75, 87.  , 86.25, 85.5 , 84.75, 84.  ,\n",
       "       83.25], dtype=float32)"
      ]
     },
     "execution_count": 17,
     "metadata": {},
     "output_type": "execute_result"
    }
   ],
   "source": [
    "ds_T_jan.latitude.values[:10]"
   ]
  },
  {
   "cell_type": "code",
   "execution_count": null,
   "metadata": {},
   "outputs": [],
   "source": []
  },
  {
   "cell_type": "markdown",
   "metadata": {},
   "source": [
    "## JNM00001001 (70.939N -8.667E)"
   ]
  },
  {
   "cell_type": "markdown",
   "metadata": {},
   "source": [
    "Different levels are passing at different distances, farthest being 164.85 m and closest being 4.74 m.\n",
    "Plotting air mass profile at the nearest grid points and comparing with station data.\n",
    "\n",
    "To see how to present this information"
   ]
  },
  {
   "cell_type": "code",
   "execution_count": 3,
   "metadata": {},
   "outputs": [],
   "source": [
    "#1998-01-01 21:00:00 JNM00001001 for 1850m\n",
    "# 2 readings at 00 and 12:00\n",
    "df_jnm1001 = sounding_finder(file='JNM00001001', from_line='#JNM00001001 1998 01 02',\\\n",
    "                           to_line='#JNM00001001 1998 01 02 12', to_df=1)\n",
    "\n",
    "jnm1001 = sd(df_jnm1001)\n",
    "\n",
    "q_jnm1001 = jnm1001.spec_humidity()\n",
    "rh_jnm1001 = jnm1001.relative_humidity()\n",
    "rhi_jnm1001 = jnm1001.relative_humidity_ice()\n",
    "pot_jnm1001 = jnm1001.potential_t()"
   ]
  },
  {
   "cell_type": "markdown",
   "metadata": {},
   "source": [
    "01-01-1998 17:00 JNM00001001 70.939 -8.667 1.054000000000002 3.2699999999999996 165.18681913291866"
   ]
  },
  {
   "cell_type": "code",
   "execution_count": 4,
   "metadata": {},
   "outputs": [
    {
     "data": {
      "image/png": "[encoded data removed]",
      "text/plain": [
       "<Figure size 432x432 with 2 Axes>"
      ]
     },
     "metadata": {
      "needs_background": "light"
     },
     "output_type": "display_data"
    }
   ],
   "source": [
    "lat_traj = [70.9395 + 1.05 ]\n",
    "lon_traj = [-8.667+3.27 ]\n",
    "labels= ['ERA-I at 1400 m']\n",
    "colors = ['#1b9e77', '#7570b3', '#d95f02']\n",
    "levels, levels_era5 = ds_T_jan.level.values, ds_ERA_5_jan.level.values\n",
    "\n",
    "\n",
    "fig = plt.figure(figsize=(6,6))\n",
    "ax1 = plt.subplot(1,2,1) # (row,column,number)\n",
    "\n",
    "ax1.scatter(jnm1001.T, jnm1001.p, color='r', linewidth=0.1, label='Sounding')\n",
    "\n",
    "ax1.scatter(ds_T_jan.t.sel(time='1998-01-02 00:00', level=levels,  # ERA-I\n",
    "                                    latitude=70.939, longitude=-8.667, \n",
    "                                    method='nearest').values, \n",
    "           levels,\n",
    "           s=25, marker='x', color='k')\n",
    "for i in range(0,1):\n",
    "    ax1.scatter(ds_T_jan.t.sel(time='1998-01-02 00:00', level=levels,  # ERA-I\n",
    "                                        latitude=lat_traj[i], longitude=lon_traj[i], \n",
    "                                        method='nearest').values, \n",
    "               levels,\n",
    "               s=25, marker='x', color=colors[i])\n",
    "\n",
    "#ax1.scatter(ds_ERA_5_jan.t.sel(time='1998-01-08 00:00', level=levels_era5, \n",
    "#                                     latitude=74.5, longitude=19.0, \n",
    "#                                     method='nearest').values, \n",
    "#            levels_era5, \n",
    "#             s=25, marker='X', color='b')\n",
    "\n",
    "ax1.set(xlabel='Temperature (K)', ylabel='Pressure(hPa)', ylim=[1030,450], xlim=[230, 280])\n",
    "ax1.invert_yaxis()\n",
    "\n",
    "ax2 = plt.subplot(1,2,2)\n",
    "\n",
    "ax2.scatter(q_jnm1001, jnm1001.p, color='r', linewidth=0.1, label='Sounding')\n",
    "ax2.scatter(ds_q_jan.q.sel(time='1998-01-02 00:00', level=levels,  # ERA-I\n",
    "                                    latitude=70.939, longitude=-8.667, \n",
    "                                    method='nearest').values * 1000, \n",
    "           levels, \n",
    "            s=25, marker='x', color='b', label='ERA-I at Station')\n",
    "for  i in range(0,1):\n",
    "    ax2.scatter(ds_q_jan.q.sel(time='1998-01-02 00:00', level=levels,  # ERA-I\n",
    "                                        latitude=lat_traj[i], longitude=lon_traj[i], \n",
    "                                        method='nearest').values * 1000, \n",
    "               levels,\n",
    "               s=25, marker='x', color=colors[i], label=labels[i])\n",
    "\n",
    "# ax2.scatter(ds_ERA_5_jan.q.sel(time='1998-01-08 00:00', level=levels_era5,   # ERA-5\n",
    "#                                     latitude=74.5, longitude=19.0, \n",
    "#                                     method='nearest').values * 1000, \n",
    "#            levels_era5, \n",
    "#             s=25, marker='X', color='g', label='ERA-5')\n",
    "ax2.set(xlabel='Specific Humidity (g/Kg)', xlim=[0,5])\n",
    "ax2.invert_yaxis()\n",
    "plt.legend() # setting legend\n",
    "sns.despine()\n",
    "plt.suptitle('JNM000010001 02-01-1998 00:00 UTC', size = 12);"
   ]
  },
  {
   "cell_type": "markdown",
   "metadata": {},
   "source": [
    "Good consistency for this station at the maximum approach of a trajectory"
   ]
  },
  {
   "cell_type": "markdown",
   "metadata": {},
   "source": [
    "## GLM00004320 76.77N -18.668E"
   ]
  },
  {
   "cell_type": "markdown",
   "metadata": {},
   "source": [
    "Different levels are passing at different distances, farthest being 182.77 m and closest being 50.84 m. Plotting air mass profile at the nearest grid points and comparing with station data.\n",
    "\n"
   ]
  },
  {
   "cell_type": "code",
   "execution_count": 5,
   "metadata": {},
   "outputs": [],
   "source": [
    "# 2 readings at 11:00 and 23:00\n",
    "df_glm4320 = sounding_finder(file='GLM00004320', from_line='#GLM00004320 1998 01 02 11',\\\n",
    "                           to_line='#GLM00004320 1998 01 02', to_df=1)\n",
    "glm4320 = sd(df_glm4320)\n",
    "q_glm4320 = glm4320.spec_humidity()"
   ]
  },
  {
   "cell_type": "code",
   "execution_count": 21,
   "metadata": {},
   "outputs": [
    {
     "data": {
      "image/png": "[encoded data removed]",
      "text/plain": [
       "<Figure size 432x432 with 2 Axes>"
      ]
     },
     "metadata": {
      "needs_background": "light"
     },
     "output_type": "display_data"
    }
   ],
   "source": [
    "lat_traj = [76.77 - 0.53 ]\n",
    "lon_traj = [-18.668 - 6.637 ]\n",
    "labels= ['ERA-I at 2850 m']\n",
    "colors = ['#1b9e77', '#7570b3', '#d95f02']\n",
    "levels, levels_era5 = ds_T_jan.level.values, ds_ERA_5_jan.level.values\n",
    "\n",
    "\n",
    "fig = plt.figure(figsize=(6,6))\n",
    "ax1 = plt.subplot(1,2,1) # (row,column,number)\n",
    "\n",
    "ax1.scatter(glm4320.T, glm4320.p, color='r', linewidth=0.1, label='Sounding')\n",
    "\n",
    "ax1.scatter(ds_T_jan.t.sel(time='1998-01-02 12:00', level=levels,  # ERA-I\n",
    "                                    latitude=76.77, longitude=-18.668, \n",
    "                                    method='nearest').values, \n",
    "           levels,\n",
    "           s=25, marker='o', color='k')\n",
    "for i in range(0,1):\n",
    "    ax1.scatter(ds_T_jan.t.sel(time='1998-01-02 12:00', level=levels,  # ERA-I\n",
    "                                        latitude=lat_traj[i], longitude=lon_traj[i], \n",
    "                                        method='nearest').values, \n",
    "               levels,\n",
    "               s=25, marker='x', color=colors[i])\n",
    "\n",
    "    ax1.scatter(ds_ERA_5_jan.t.sel(time='1998-01-02 12:00', level=levels_era5, \n",
    "                                 latitude=76.77, longitude=-18.668, \n",
    "                                     method='nearest').values, \n",
    "            levels_era5, \n",
    "            s=25, marker='x', color=colors[i+1])\n",
    "ax1.invert_yaxis()\n",
    "ax1.set(xlabel='Temperature (K)', ylabel='Pressure(hPa)', ylim=[1030,450], xlim=[230, 280])\n",
    "\n",
    "\n",
    "ax2 = plt.subplot(1,2,2)\n",
    "\n",
    "ax2.scatter(q_glm4320, glm4320.p, color='r', linewidth=0.1, label='Sounding')\n",
    "ax2.scatter(ds_q_jan.q.sel(time='1998-01-02 12:00', level=levels,  # ERA-I\n",
    "                                    latitude=76.77, longitude=-18.668, \n",
    "                                    method='nearest').values * 1000, \n",
    "           levels, \n",
    "            s=25, marker='o', color='b', label='ERA-I at Station')\n",
    "for  i in range(0,1):\n",
    "    ax2.scatter(ds_q_jan.q.sel(time='1998-01-02 11:00', level=levels,  # ERA-I\n",
    "                                        latitude=lat_traj[i], longitude=lon_traj[i], \n",
    "                                        method='nearest').values * 1000, \n",
    "               levels,\n",
    "               s=25, marker='x', color=colors[i], label=labels[i]+' ERA-I')\n",
    "\n",
    "    ax2.scatter(ds_ERA_5_jan.q.sel(time='1998-01-02 12:00', level=levels_era5,   # ERA-5\n",
    "                                 latitude=lat_traj[i], longitude=lon_traj[i], \n",
    "                                     method='nearest').values * 1000, \n",
    "           levels_era5, \n",
    "           s=25, marker='x', color=colors[i+1], label=labels[i]+' ERA-5')\n",
    "ax2.set(xlabel='Specific Humidity (g/Kg)', xlim=[0,5])\n",
    "ax2.invert_yaxis()\n",
    "plt.legend() # setting legend\n",
    "sns.despine()\n",
    "plt.suptitle('GLM00004320 02-01-1998 11:00 UTC', size = 12);"
   ]
  },
  {
   "cell_type": "markdown",
   "metadata": {},
   "source": [
    "Now, in cases like this, is that a problem of ERA-Interim in general underestimating the data? it could be that the observation at that grid point was nudged. Temperature profile is also showing a lot of disagreement! **To discuss what to do for such cases?**\n",
    "\n",
    "**Note:** Disagreement betweem ERA-I and ERA-5 as well!\n",
    "\n",
    "Looking at the trajectories, other levels are passing more inwards over Greenland compared to 2850 m. That could explain why 2850 m profile is relatively warmer and has more moisture"
   ]
  },
  {
   "cell_type": "code",
   "execution_count": null,
   "metadata": {},
   "outputs": [],
   "source": []
  }
 ],
 "metadata": {
  "kernelspec": {
   "display_name": "Python 3",
   "language": "python",
   "name": "python3"
  },
  "language_info": {
   "codemirror_mode": {
    "name": "ipython",
    "version": 3
   },
   "file_extension": ".py",
   "mimetype": "text/x-python",
   "name": "python",
   "nbconvert_exporter": "python",
   "pygments_lexer": "ipython3",
   "version": "3.6.8"
  },
  "toc": {
   "base_numbering": 1,
   "nav_menu": {},
   "number_sections": true,
   "sideBar": true,
   "skip_h1_title": false,
   "title_cell": "Table of Contents",
   "title_sidebar": "Contents",
   "toc_cell": false,
   "toc_position": {
    "height": "calc(100% - 180px)",
    "left": "10px",
    "top": "150px",
    "width": "289px"
   },
   "toc_section_display": true,
   "toc_window_display": true
  },
  "varInspector": {
   "cols": {
    "lenName": 16,
    "lenType": 16,
    "lenVar": 40
   },
   "kernels_config": {
    "python": {
     "delete_cmd_postfix": "",
     "delete_cmd_prefix": "del ",
     "library": "var_list.py",
     "varRefreshCmd": "print(var_dic_list())"
    },
    "r": {
     "delete_cmd_postfix": ") ",
     "delete_cmd_prefix": "rm(",
     "library": "var_list.r",
     "varRefreshCmd": "cat(var_dic_list()) "
    }
   },
   "types_to_exclude": [
    "module",
    "function",
    "builtin_function_or_method",
    "instance",
    "_Feature"
   ],
   "window_display": false
  }
 },
 "nbformat": 4,
 "nbformat_minor": 2
}
