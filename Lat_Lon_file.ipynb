{
 "cells": [
  {
   "cell_type": "markdown",
   "metadata": {},
   "source": [
    "Notebook to write Lat Lon in Text files to be used by hysplit later"
   ]
  },
  {
   "cell_type": "code",
   "execution_count": 1,
   "metadata": {
    "collapsed": true
   },
   "outputs": [],
   "source": [
    "import numpy as np\n",
    "import pandas as pd\n",
    "from netcdftime import utime\n",
    "from datetime import datetime"
   ]
  },
  {
   "cell_type": "code",
   "execution_count": 2,
   "metadata": {},
   "outputs": [
    {
     "name": "stdout",
     "output_type": "stream",
     "text": [
      "1997-01-01 00:00:00\n"
     ]
    }
   ],
   "source": [
    "#checking JDD\n",
    "cdftime = utime('days since 1997-01-00 00:00:00') #defined wrt SHEBA wrt to days and not hours\n",
    "#date = datetime.now()\n",
    "#print (date)\n",
    "#type(date)\n",
    "t3 = 1 #jan 1,1997 is JD1 for Sheba\n",
    "date3 = cdftime.num2date(t3)\n",
    "print (date3)"
   ]
  },
  {
   "cell_type": "code",
   "execution_count": 3,
   "metadata": {
    "collapsed": true
   },
   "outputs": [],
   "source": [
    "df = pd.read_csv(\"/work/ollie/muali/data/ASFG_tower/prof_file_davg_all6_ed.txt\", header=None, delim_whitespace=True)"
   ]
  },
  {
   "cell_type": "code",
   "execution_count": 4,
   "metadata": {
    "collapsed": true
   },
   "outputs": [],
   "source": [
    "dates = list (df [0])\n",
    "date_indx = cdftime.num2date(dates) #converting JDD to Gregorian calendar dates\n"
   ]
  },
  {
   "cell_type": "code",
   "execution_count": 5,
   "metadata": {
    "collapsed": true
   },
   "outputs": [],
   "source": [
    "d = np.array([df[1], df[2], df[3]])\n",
    "d_t = np.transpose(d) #To convert it to 338x3 rows\n",
    "\n",
    "df2 = pd.DataFrame(data=d_t, index=date_indx, columns=['Lat', 'Lon', 'Pressue']) \n",
    "#creating a dataframe for quick analysis "
   ]
  },
  {
   "cell_type": "code",
   "execution_count": 6,
   "metadata": {},
   "outputs": [
    {
     "data": {
      "text/plain": [
       "Lat        1133.646136\n",
       "Lon         922.487830\n",
       "Pressue    1521.301479\n",
       "dtype: float64"
      ]
     },
     "execution_count": 6,
     "metadata": {},
     "output_type": "execute_result"
    }
   ],
   "source": [
    "df2.mean()"
   ]
  },
  {
   "cell_type": "code",
   "execution_count": 7,
   "metadata": {},
   "outputs": [
    {
     "data": {
      "text/plain": [
       "338"
      ]
     },
     "execution_count": 7,
     "metadata": {},
     "output_type": "execute_result"
    }
   ],
   "source": [
    "len(df2)"
   ]
  },
  {
   "cell_type": "code",
   "execution_count": 8,
   "metadata": {},
   "outputs": [
    {
     "data": {
      "text/html": [
       "<div>\n",
       "<style>\n",
       "    .dataframe thead tr:only-child th {\n",
       "        text-align: right;\n",
       "    }\n",
       "\n",
       "    .dataframe thead th {\n",
       "        text-align: left;\n",
       "    }\n",
       "\n",
       "    .dataframe tbody tr th {\n",
       "        vertical-align: top;\n",
       "    }\n",
       "</style>\n",
       "<table border=\"1\" class=\"dataframe\">\n",
       "  <thead>\n",
       "    <tr style=\"text-align: right;\">\n",
       "      <th></th>\n",
       "      <th>Lat</th>\n",
       "      <th>Lon</th>\n",
       "      <th>Pressue</th>\n",
       "    </tr>\n",
       "  </thead>\n",
       "  <tbody>\n",
       "    <tr>\n",
       "      <th>1997-10-29 12:00:00</th>\n",
       "      <td>75.62661</td>\n",
       "      <td>-144.02284</td>\n",
       "      <td>1006.1</td>\n",
       "    </tr>\n",
       "    <tr>\n",
       "      <th>1997-10-30 12:00:00</th>\n",
       "      <td>75.70988</td>\n",
       "      <td>-144.26531</td>\n",
       "      <td>990.7</td>\n",
       "    </tr>\n",
       "    <tr>\n",
       "      <th>1997-10-31 12:00:00</th>\n",
       "      <td>75.71852</td>\n",
       "      <td>-144.15818</td>\n",
       "      <td>993.8</td>\n",
       "    </tr>\n",
       "    <tr>\n",
       "      <th>1997-11-01 12:00:00</th>\n",
       "      <td>75.75302</td>\n",
       "      <td>-143.94832</td>\n",
       "      <td>1012.8</td>\n",
       "    </tr>\n",
       "    <tr>\n",
       "      <th>1997-11-02 12:00:00</th>\n",
       "      <td>75.83746</td>\n",
       "      <td>-143.97228</td>\n",
       "      <td>1021.5</td>\n",
       "    </tr>\n",
       "  </tbody>\n",
       "</table>\n",
       "</div>"
      ],
      "text/plain": [
       "                          Lat        Lon  Pressue\n",
       "1997-10-29 12:00:00  75.62661 -144.02284   1006.1\n",
       "1997-10-30 12:00:00  75.70988 -144.26531    990.7\n",
       "1997-10-31 12:00:00  75.71852 -144.15818    993.8\n",
       "1997-11-01 12:00:00  75.75302 -143.94832   1012.8\n",
       "1997-11-02 12:00:00  75.83746 -143.97228   1021.5"
      ]
     },
     "execution_count": 8,
     "metadata": {},
     "output_type": "execute_result"
    }
   ],
   "source": [
    "df2 = df2.replace(9999.0, np.nan)\n",
    "df2.head()"
   ]
  },
  {
   "cell_type": "code",
   "execution_count": 9,
   "metadata": {},
   "outputs": [
    {
     "data": {
      "text/html": [
       "<div>\n",
       "<style>\n",
       "    .dataframe thead tr:only-child th {\n",
       "        text-align: right;\n",
       "    }\n",
       "\n",
       "    .dataframe thead th {\n",
       "        text-align: left;\n",
       "    }\n",
       "\n",
       "    .dataframe tbody tr th {\n",
       "        vertical-align: top;\n",
       "    }\n",
       "</style>\n",
       "<table border=\"1\" class=\"dataframe\">\n",
       "  <thead>\n",
       "    <tr style=\"text-align: right;\">\n",
       "      <th></th>\n",
       "      <th>Lat</th>\n",
       "      <th>Lon</th>\n",
       "      <th>Pressue</th>\n",
       "    </tr>\n",
       "  </thead>\n",
       "  <tbody>\n",
       "    <tr>\n",
       "      <th>1997-10-29 12:00:00</th>\n",
       "      <td>75.62661</td>\n",
       "      <td>-144.02284</td>\n",
       "      <td>1006.1</td>\n",
       "    </tr>\n",
       "    <tr>\n",
       "      <th>1997-10-30 12:00:00</th>\n",
       "      <td>75.70988</td>\n",
       "      <td>-144.26531</td>\n",
       "      <td>990.7</td>\n",
       "    </tr>\n",
       "    <tr>\n",
       "      <th>1997-10-31 12:00:00</th>\n",
       "      <td>75.71852</td>\n",
       "      <td>-144.15818</td>\n",
       "      <td>993.8</td>\n",
       "    </tr>\n",
       "    <tr>\n",
       "      <th>1997-11-01 12:00:00</th>\n",
       "      <td>75.75302</td>\n",
       "      <td>-143.94832</td>\n",
       "      <td>1012.8</td>\n",
       "    </tr>\n",
       "    <tr>\n",
       "      <th>1997-11-02 12:00:00</th>\n",
       "      <td>75.83746</td>\n",
       "      <td>-143.97228</td>\n",
       "      <td>1021.5</td>\n",
       "    </tr>\n",
       "  </tbody>\n",
       "</table>\n",
       "</div>"
      ],
      "text/plain": [
       "                          Lat        Lon  Pressue\n",
       "1997-10-29 12:00:00  75.62661 -144.02284   1006.1\n",
       "1997-10-30 12:00:00  75.70988 -144.26531    990.7\n",
       "1997-10-31 12:00:00  75.71852 -144.15818    993.8\n",
       "1997-11-01 12:00:00  75.75302 -143.94832   1012.8\n",
       "1997-11-02 12:00:00  75.83746 -143.97228   1021.5"
      ]
     },
     "execution_count": 9,
     "metadata": {},
     "output_type": "execute_result"
    }
   ],
   "source": [
    "df2[['Lat', 'Lon']].fillna(method='ffill')\n",
    "df2.head()"
   ]
  },
  {
   "cell_type": "code",
   "execution_count": 10,
   "metadata": {},
   "outputs": [
    {
     "data": {
      "text/plain": [
       "338"
      ]
     },
     "execution_count": 10,
     "metadata": {},
     "output_type": "execute_result"
    }
   ],
   "source": [
    "# Quality check\n",
    "#df3 = df2.loc[df2['Lat'] < 999]\n",
    "len(df2)"
   ]
  },
  {
   "cell_type": "code",
   "execution_count": 8,
   "metadata": {},
   "outputs": [
    {
     "data": {
      "text/plain": [
       "76.12738"
      ]
     },
     "execution_count": 8,
     "metadata": {},
     "output_type": "execute_result"
    }
   ],
   "source": [
    "df3[df3.Pressue==1012].Lat.mean()"
   ]
  },
  {
   "cell_type": "code",
   "execution_count": 9,
   "metadata": {},
   "outputs": [
    {
     "data": {
      "text/html": [
       "<div>\n",
       "<style>\n",
       "    .dataframe thead tr:only-child th {\n",
       "        text-align: right;\n",
       "    }\n",
       "\n",
       "    .dataframe thead th {\n",
       "        text-align: left;\n",
       "    }\n",
       "\n",
       "    .dataframe tbody tr th {\n",
       "        vertical-align: top;\n",
       "    }\n",
       "</style>\n",
       "<table border=\"1\" class=\"dataframe\">\n",
       "  <thead>\n",
       "    <tr style=\"text-align: right;\">\n",
       "      <th></th>\n",
       "      <th>Lat</th>\n",
       "      <th>Lon</th>\n",
       "      <th>Pressue</th>\n",
       "    </tr>\n",
       "  </thead>\n",
       "  <tbody>\n",
       "    <tr>\n",
       "      <th>1997-10-29 12:00:00</th>\n",
       "      <td>75.62661</td>\n",
       "      <td>-144.02284</td>\n",
       "      <td>1006.1</td>\n",
       "    </tr>\n",
       "    <tr>\n",
       "      <th>1997-10-30 12:00:00</th>\n",
       "      <td>75.70988</td>\n",
       "      <td>-144.26531</td>\n",
       "      <td>990.7</td>\n",
       "    </tr>\n",
       "    <tr>\n",
       "      <th>1997-10-31 12:00:00</th>\n",
       "      <td>75.71852</td>\n",
       "      <td>-144.15818</td>\n",
       "      <td>993.8</td>\n",
       "    </tr>\n",
       "    <tr>\n",
       "      <th>1997-11-01 12:00:00</th>\n",
       "      <td>75.75302</td>\n",
       "      <td>-143.94832</td>\n",
       "      <td>1012.8</td>\n",
       "    </tr>\n",
       "    <tr>\n",
       "      <th>1997-11-02 12:00:00</th>\n",
       "      <td>75.83746</td>\n",
       "      <td>-143.97228</td>\n",
       "      <td>1021.5</td>\n",
       "    </tr>\n",
       "  </tbody>\n",
       "</table>\n",
       "</div>"
      ],
      "text/plain": [
       "                          Lat        Lon  Pressue\n",
       "1997-10-29 12:00:00  75.62661 -144.02284   1006.1\n",
       "1997-10-30 12:00:00  75.70988 -144.26531    990.7\n",
       "1997-10-31 12:00:00  75.71852 -144.15818    993.8\n",
       "1997-11-01 12:00:00  75.75302 -143.94832   1012.8\n",
       "1997-11-02 12:00:00  75.83746 -143.97228   1021.5"
      ]
     },
     "execution_count": 9,
     "metadata": {},
     "output_type": "execute_result"
    }
   ],
   "source": [
    "df3.head()"
   ]
  },
  {
   "cell_type": "code",
   "execution_count": 15,
   "metadata": {},
   "outputs": [
    {
     "data": {
      "text/plain": [
       "302"
      ]
     },
     "execution_count": 15,
     "metadata": {},
     "output_type": "execute_result"
    }
   ],
   "source": [
    "mask = np.array (df2['Lat']) < 999 #mask has to be made as np array to extract dateobjects\n",
    "t = date_indx[mask] #if mask is series or list, it doesn't work\n",
    "len(t) #length to check"
   ]
  },
  {
   "cell_type": "code",
   "execution_count": 25,
   "metadata": {},
   "outputs": [
    {
     "data": {
      "text/html": [
       "<div>\n",
       "<style>\n",
       "    .dataframe thead tr:only-child th {\n",
       "        text-align: right;\n",
       "    }\n",
       "\n",
       "    .dataframe thead th {\n",
       "        text-align: left;\n",
       "    }\n",
       "\n",
       "    .dataframe tbody tr th {\n",
       "        vertical-align: top;\n",
       "    }\n",
       "</style>\n",
       "<table border=\"1\" class=\"dataframe\">\n",
       "  <thead>\n",
       "    <tr style=\"text-align: right;\">\n",
       "      <th></th>\n",
       "      <th>Lat</th>\n",
       "      <th>Lon</th>\n",
       "      <th>Pressue</th>\n",
       "    </tr>\n",
       "  </thead>\n",
       "  <tbody>\n",
       "    <tr>\n",
       "      <th>1997-11-19 12:00:00</th>\n",
       "      <td>9999.0</td>\n",
       "      <td>9999.0</td>\n",
       "      <td>1020.3</td>\n",
       "    </tr>\n",
       "    <tr>\n",
       "      <th>1997-12-01 12:00:00</th>\n",
       "      <td>9999.0</td>\n",
       "      <td>9999.0</td>\n",
       "      <td>1014.6</td>\n",
       "    </tr>\n",
       "    <tr>\n",
       "      <th>1998-01-01 12:00:00</th>\n",
       "      <td>9999.0</td>\n",
       "      <td>9999.0</td>\n",
       "      <td>1037.1</td>\n",
       "    </tr>\n",
       "    <tr>\n",
       "      <th>1998-01-02 12:00:00</th>\n",
       "      <td>9999.0</td>\n",
       "      <td>9999.0</td>\n",
       "      <td>1029.6</td>\n",
       "    </tr>\n",
       "    <tr>\n",
       "      <th>1998-01-20 12:00:00</th>\n",
       "      <td>9999.0</td>\n",
       "      <td>9999.0</td>\n",
       "      <td>1042.2</td>\n",
       "    </tr>\n",
       "    <tr>\n",
       "      <th>1998-01-21 12:00:00</th>\n",
       "      <td>9999.0</td>\n",
       "      <td>9999.0</td>\n",
       "      <td>1042.0</td>\n",
       "    </tr>\n",
       "    <tr>\n",
       "      <th>1998-01-22 12:00:00</th>\n",
       "      <td>9999.0</td>\n",
       "      <td>9999.0</td>\n",
       "      <td>1039.4</td>\n",
       "    </tr>\n",
       "    <tr>\n",
       "      <th>1998-01-23 12:00:00</th>\n",
       "      <td>9999.0</td>\n",
       "      <td>9999.0</td>\n",
       "      <td>1035.1</td>\n",
       "    </tr>\n",
       "    <tr>\n",
       "      <th>1998-01-26 12:00:00</th>\n",
       "      <td>9999.0</td>\n",
       "      <td>9999.0</td>\n",
       "      <td>1010.0</td>\n",
       "    </tr>\n",
       "    <tr>\n",
       "      <th>1998-01-30 12:00:00</th>\n",
       "      <td>9999.0</td>\n",
       "      <td>9999.0</td>\n",
       "      <td>1006.6</td>\n",
       "    </tr>\n",
       "    <tr>\n",
       "      <th>1998-01-31 12:00:00</th>\n",
       "      <td>9999.0</td>\n",
       "      <td>9999.0</td>\n",
       "      <td>1011.3</td>\n",
       "    </tr>\n",
       "    <tr>\n",
       "      <th>1998-02-01 12:00:00</th>\n",
       "      <td>9999.0</td>\n",
       "      <td>9999.0</td>\n",
       "      <td>1010.4</td>\n",
       "    </tr>\n",
       "    <tr>\n",
       "      <th>1998-02-02 12:00:00</th>\n",
       "      <td>9999.0</td>\n",
       "      <td>9999.0</td>\n",
       "      <td>1018.4</td>\n",
       "    </tr>\n",
       "    <tr>\n",
       "      <th>1998-02-03 12:00:00</th>\n",
       "      <td>9999.0</td>\n",
       "      <td>9999.0</td>\n",
       "      <td>1027.7</td>\n",
       "    </tr>\n",
       "    <tr>\n",
       "      <th>1998-02-04 12:00:00</th>\n",
       "      <td>9999.0</td>\n",
       "      <td>9999.0</td>\n",
       "      <td>1028.2</td>\n",
       "    </tr>\n",
       "    <tr>\n",
       "      <th>1998-02-05 12:00:00</th>\n",
       "      <td>9999.0</td>\n",
       "      <td>9999.0</td>\n",
       "      <td>1018.3</td>\n",
       "    </tr>\n",
       "    <tr>\n",
       "      <th>1998-02-06 12:00:00</th>\n",
       "      <td>9999.0</td>\n",
       "      <td>9999.0</td>\n",
       "      <td>1014.8</td>\n",
       "    </tr>\n",
       "    <tr>\n",
       "      <th>1998-02-10 12:00:00</th>\n",
       "      <td>9999.0</td>\n",
       "      <td>9999.0</td>\n",
       "      <td>1025.7</td>\n",
       "    </tr>\n",
       "    <tr>\n",
       "      <th>1998-02-27 12:00:00</th>\n",
       "      <td>9999.0</td>\n",
       "      <td>9999.0</td>\n",
       "      <td>1011.2</td>\n",
       "    </tr>\n",
       "    <tr>\n",
       "      <th>1998-02-28 12:00:00</th>\n",
       "      <td>9999.0</td>\n",
       "      <td>9999.0</td>\n",
       "      <td>1018.2</td>\n",
       "    </tr>\n",
       "    <tr>\n",
       "      <th>1998-03-01 12:00:00</th>\n",
       "      <td>9999.0</td>\n",
       "      <td>9999.0</td>\n",
       "      <td>1030.9</td>\n",
       "    </tr>\n",
       "    <tr>\n",
       "      <th>1998-03-07 12:00:00</th>\n",
       "      <td>9999.0</td>\n",
       "      <td>9999.0</td>\n",
       "      <td>1027.6</td>\n",
       "    </tr>\n",
       "    <tr>\n",
       "      <th>1998-03-08 12:00:00</th>\n",
       "      <td>9999.0</td>\n",
       "      <td>9999.0</td>\n",
       "      <td>1017.6</td>\n",
       "    </tr>\n",
       "    <tr>\n",
       "      <th>1998-03-18 12:00:00</th>\n",
       "      <td>9999.0</td>\n",
       "      <td>9999.0</td>\n",
       "      <td>1020.8</td>\n",
       "    </tr>\n",
       "    <tr>\n",
       "      <th>1998-03-19 12:00:00</th>\n",
       "      <td>9999.0</td>\n",
       "      <td>9999.0</td>\n",
       "      <td>1018.9</td>\n",
       "    </tr>\n",
       "    <tr>\n",
       "      <th>1998-03-21 12:00:00</th>\n",
       "      <td>9999.0</td>\n",
       "      <td>9999.0</td>\n",
       "      <td>1015.3</td>\n",
       "    </tr>\n",
       "    <tr>\n",
       "      <th>1998-03-22 12:00:00</th>\n",
       "      <td>9999.0</td>\n",
       "      <td>9999.0</td>\n",
       "      <td>1004.6</td>\n",
       "    </tr>\n",
       "    <tr>\n",
       "      <th>1998-03-23 12:00:00</th>\n",
       "      <td>9999.0</td>\n",
       "      <td>9999.0</td>\n",
       "      <td>1009.5</td>\n",
       "    </tr>\n",
       "    <tr>\n",
       "      <th>1998-03-24 12:00:00</th>\n",
       "      <td>9999.0</td>\n",
       "      <td>9999.0</td>\n",
       "      <td>1008.2</td>\n",
       "    </tr>\n",
       "    <tr>\n",
       "      <th>1998-03-25 12:00:00</th>\n",
       "      <td>9999.0</td>\n",
       "      <td>9999.0</td>\n",
       "      <td>1014.7</td>\n",
       "    </tr>\n",
       "    <tr>\n",
       "      <th>1998-03-26 12:00:00</th>\n",
       "      <td>9999.0</td>\n",
       "      <td>9999.0</td>\n",
       "      <td>1016.3</td>\n",
       "    </tr>\n",
       "    <tr>\n",
       "      <th>1998-04-13 12:00:00</th>\n",
       "      <td>9999.0</td>\n",
       "      <td>9999.0</td>\n",
       "      <td>1013.0</td>\n",
       "    </tr>\n",
       "    <tr>\n",
       "      <th>1998-06-05 12:00:00</th>\n",
       "      <td>9999.0</td>\n",
       "      <td>9999.0</td>\n",
       "      <td>9999.0</td>\n",
       "    </tr>\n",
       "    <tr>\n",
       "      <th>1998-07-13 12:00:00</th>\n",
       "      <td>9999.0</td>\n",
       "      <td>9999.0</td>\n",
       "      <td>1025.4</td>\n",
       "    </tr>\n",
       "    <tr>\n",
       "      <th>1998-08-24 12:00:00</th>\n",
       "      <td>9999.0</td>\n",
       "      <td>9999.0</td>\n",
       "      <td>1011.0</td>\n",
       "    </tr>\n",
       "    <tr>\n",
       "      <th>1998-08-25 12:00:00</th>\n",
       "      <td>9999.0</td>\n",
       "      <td>9999.0</td>\n",
       "      <td>1014.2</td>\n",
       "    </tr>\n",
       "  </tbody>\n",
       "</table>\n",
       "</div>"
      ],
      "text/plain": [
       "                        Lat     Lon  Pressue\n",
       "1997-11-19 12:00:00  9999.0  9999.0   1020.3\n",
       "1997-12-01 12:00:00  9999.0  9999.0   1014.6\n",
       "1998-01-01 12:00:00  9999.0  9999.0   1037.1\n",
       "1998-01-02 12:00:00  9999.0  9999.0   1029.6\n",
       "1998-01-20 12:00:00  9999.0  9999.0   1042.2\n",
       "1998-01-21 12:00:00  9999.0  9999.0   1042.0\n",
       "1998-01-22 12:00:00  9999.0  9999.0   1039.4\n",
       "1998-01-23 12:00:00  9999.0  9999.0   1035.1\n",
       "1998-01-26 12:00:00  9999.0  9999.0   1010.0\n",
       "1998-01-30 12:00:00  9999.0  9999.0   1006.6\n",
       "1998-01-31 12:00:00  9999.0  9999.0   1011.3\n",
       "1998-02-01 12:00:00  9999.0  9999.0   1010.4\n",
       "1998-02-02 12:00:00  9999.0  9999.0   1018.4\n",
       "1998-02-03 12:00:00  9999.0  9999.0   1027.7\n",
       "1998-02-04 12:00:00  9999.0  9999.0   1028.2\n",
       "1998-02-05 12:00:00  9999.0  9999.0   1018.3\n",
       "1998-02-06 12:00:00  9999.0  9999.0   1014.8\n",
       "1998-02-10 12:00:00  9999.0  9999.0   1025.7\n",
       "1998-02-27 12:00:00  9999.0  9999.0   1011.2\n",
       "1998-02-28 12:00:00  9999.0  9999.0   1018.2\n",
       "1998-03-01 12:00:00  9999.0  9999.0   1030.9\n",
       "1998-03-07 12:00:00  9999.0  9999.0   1027.6\n",
       "1998-03-08 12:00:00  9999.0  9999.0   1017.6\n",
       "1998-03-18 12:00:00  9999.0  9999.0   1020.8\n",
       "1998-03-19 12:00:00  9999.0  9999.0   1018.9\n",
       "1998-03-21 12:00:00  9999.0  9999.0   1015.3\n",
       "1998-03-22 12:00:00  9999.0  9999.0   1004.6\n",
       "1998-03-23 12:00:00  9999.0  9999.0   1009.5\n",
       "1998-03-24 12:00:00  9999.0  9999.0   1008.2\n",
       "1998-03-25 12:00:00  9999.0  9999.0   1014.7\n",
       "1998-03-26 12:00:00  9999.0  9999.0   1016.3\n",
       "1998-04-13 12:00:00  9999.0  9999.0   1013.0\n",
       "1998-06-05 12:00:00  9999.0  9999.0   9999.0\n",
       "1998-07-13 12:00:00  9999.0  9999.0   1025.4\n",
       "1998-08-24 12:00:00  9999.0  9999.0   1011.0\n",
       "1998-08-25 12:00:00  9999.0  9999.0   1014.2"
      ]
     },
     "execution_count": 25,
     "metadata": {},
     "output_type": "execute_result"
    }
   ],
   "source": [
    "#df3_reverse = df2.loc[df2['Lat'] == 999.0]\n",
    "mask_reverse = []\n",
    "for lat in df2['Lat']:\n",
    "    if lat > 100.0:\n",
    "        mask_reverse.append(True)\n",
    "    else:\n",
    "        mask_reverse.append(False)\n",
    "\n",
    "df2 [mask_reverse]"
   ]
  },
  {
   "cell_type": "code",
   "execution_count": 20,
   "metadata": {},
   "outputs": [
    {
     "data": {
      "text/html": [
       "<div>\n",
       "<style>\n",
       "    .dataframe thead tr:only-child th {\n",
       "        text-align: right;\n",
       "    }\n",
       "\n",
       "    .dataframe thead th {\n",
       "        text-align: left;\n",
       "    }\n",
       "\n",
       "    .dataframe tbody tr th {\n",
       "        vertical-align: top;\n",
       "    }\n",
       "</style>\n",
       "<table border=\"1\" class=\"dataframe\">\n",
       "  <thead>\n",
       "    <tr style=\"text-align: right;\">\n",
       "      <th></th>\n",
       "      <th>Lat</th>\n",
       "      <th>Lon</th>\n",
       "      <th>Pressue</th>\n",
       "    </tr>\n",
       "  </thead>\n",
       "  <tbody>\n",
       "  </tbody>\n",
       "</table>\n",
       "</div>"
      ],
      "text/plain": [
       "Empty DataFrame\n",
       "Columns: [Lat, Lon, Pressue]\n",
       "Index: []"
      ]
     },
     "execution_count": 20,
     "metadata": {},
     "output_type": "execute_result"
    }
   ],
   "source": [
    "df3_reverse"
   ]
  },
  {
   "cell_type": "code",
   "execution_count": 13,
   "metadata": {
    "collapsed": true
   },
   "outputs": [],
   "source": [
    "#Extracting Lat, Lon to write it in the file inside a loop\n",
    "Lat = np.array([df3['Lat']])\n",
    "Lon = np.array([df3['Lon']])\n",
    "Sfc_Pressure = np.array(['Pressure'])"
   ]
  },
  {
   "cell_type": "code",
   "execution_count": 27,
   "metadata": {},
   "outputs": [
    {
     "data": {
      "text/plain": [
       "'02 03'"
      ]
     },
     "execution_count": 27,
     "metadata": {},
     "output_type": "execute_result"
    }
   ],
   "source": [
    "date_str_test = '{:%d %m}'.format(t[84+19])\n",
    "date_str_test #31 for Nov 30"
   ]
  },
  {
   "cell_type": "code",
   "execution_count": 10,
   "metadata": {},
   "outputs": [
    {
     "name": "stdout",
     "output_type": "stream",
     "text": [
      "/work/ollie/muali/data/back_traj/ASFG_tower\n"
     ]
    }
   ],
   "source": [
    "cd /work/ollie/muali/data/back_traj/ASFG_tower"
   ]
  },
  {
   "cell_type": "code",
   "execution_count": 11,
   "metadata": {
    "collapsed": true
   },
   "outputs": [],
   "source": [
    "mkdir Feb"
   ]
  },
  {
   "cell_type": "code",
   "execution_count": 12,
   "metadata": {},
   "outputs": [
    {
     "name": "stdout",
     "output_type": "stream",
     "text": [
      "/work/ollie/muali/data/back_traj/ASFG_tower/Feb\n"
     ]
    }
   ],
   "source": [
    "cd /work/ollie/muali/data/back_traj/ASFG_tower/Feb/"
   ]
  },
  {
   "cell_type": "code",
   "execution_count": 28,
   "metadata": {},
   "outputs": [
    {
     "data": {
      "text/plain": [
       "19"
      ]
     },
     "execution_count": 28,
     "metadata": {},
     "output_type": "execute_result"
    }
   ],
   "source": [
    "f1 = open('Lon.txt','w')\n",
    "f2 = open('Lat.txt', 'w')\n",
    "f3 = open('days.txt', 'w')\n",
    "date_str = []\n",
    "counter = 0 #Counter tells the missing dates \n",
    "            #Also used to write date_str\n",
    "            # In range stop is not included\n",
    "for i in range(84,103):\n",
    "    f1.write(str(Lon[0, i]))\n",
    "    f1.write(\" \")\n",
    "    f2.write(str(Lat[0, i]))\n",
    "    f2.write(\" \")\n",
    "    date_str.append('{:%d}'.format(t[i]))\n",
    "    #f3.write(\"This file contains days of observation\\n\")\n",
    "    f3.write(date_str[counter])\n",
    "    f3.write(\" \")\n",
    "    counter = counter + 1\n",
    "f1.close()\n",
    "f3.close()\n",
    "f2.close()\n",
    "counter"
   ]
  },
  {
   "cell_type": "code",
   "execution_count": 17,
   "metadata": {},
   "outputs": [
    {
     "data": {
      "text/plain": [
       "75.709879999999998"
      ]
     },
     "execution_count": 17,
     "metadata": {},
     "output_type": "execute_result"
    }
   ],
   "source": [
    "(Lat[0,1])"
   ]
  },
  {
   "cell_type": "code",
   "execution_count": 36,
   "metadata": {},
   "outputs": [
    {
     "name": "stdout",
     "output_type": "stream",
     "text": [
      "range(32, 61)\n"
     ]
    }
   ],
   "source": [
    "b = range(32, 61)\n",
    "print(b)"
   ]
  },
  {
   "cell_type": "code",
   "execution_count": null,
   "metadata": {
    "collapsed": true
   },
   "outputs": [],
   "source": []
  }
 ],
 "metadata": {
  "kernelspec": {
   "display_name": "Python 3",
   "language": "python",
   "name": "python3"
  },
  "language_info": {
   "codemirror_mode": {
    "name": "ipython",
    "version": 3
   },
   "file_extension": ".py",
   "mimetype": "text/x-python",
   "name": "python",
   "nbconvert_exporter": "python",
   "pygments_lexer": "ipython3",
   "version": "3.6.1"
  }
 },
 "nbformat": 4,
 "nbformat_minor": 2
}
