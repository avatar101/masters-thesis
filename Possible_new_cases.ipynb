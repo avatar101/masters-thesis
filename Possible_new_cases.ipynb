{
 "cells": [
  {
   "cell_type": "markdown",
   "metadata": {},
   "source": [
    "# Imports"
   ]
  },
  {
   "cell_type": "code",
   "execution_count": 1,
   "metadata": {},
   "outputs": [],
   "source": [
    "from traj_check import trajcheck\n",
    "\n",
    "# traj_plot not working due to problem with basemap\n",
    "import numpy as np\n",
    "import matplotlib.pyplot as plt\n",
    "import seaborn as sns\n",
    "%matplotlib inline\n",
    "from datetime import datetime\n",
    "import metpy.calc as mcalc\n",
    "from metpy.units import units\n",
    "from station_plot import plot_station\n",
    "from sounding_df import sounding_df as sd\n",
    "from sounding_finder import sounding_finder\n",
    "# Loading sounding data at sheba\n",
    "from sheba_df import sheba_df\n",
    "from meteo import spec_humidity\n",
    "from siphon.simplewebservice.igra2 import IGRAUpperAir\n",
    "from traj_plot import traj_plot\n",
    "import xarray as xr\n",
    "\n",
    "ds_T_jan = xr.open_dataset('/home/ollie/muali/Data/netcdf_files/T_1998-01-01-to-1998-01-31ERA-I.nc')\n",
    "ds_q_jan = xr.open_dataset('/home/ollie/muali/Data/netcdf_files/q_1998-01-01-to-1998-01-31ERA-I.nc')\n",
    "\n",
    "ds_ERA_5_jan = xr.open_dataset('/home/ollie/muali/Data/netcdf_files/T_q_g_Era-5-Jan1998.nc')\n",
    "\n",
    "# path to all trajectory files\n",
    "path_traj= '/home/ollie/muali/Data/winter_all/'"
   ]
  },
  {
   "cell_type": "code",
   "execution_count": null,
   "metadata": {},
   "outputs": [],
   "source": []
  }
 ],
 "metadata": {
  "kernelspec": {
   "display_name": "Python 3",
   "language": "python",
   "name": "python3"
  },
  "language_info": {
   "codemirror_mode": {
    "name": "ipython",
    "version": 3
   },
   "file_extension": ".py",
   "mimetype": "text/x-python",
   "name": "python",
   "nbconvert_exporter": "python",
   "pygments_lexer": "ipython3",
   "version": "3.6.8"
  },
  "toc": {
   "base_numbering": 1,
   "nav_menu": {},
   "number_sections": true,
   "sideBar": true,
   "skip_h1_title": false,
   "title_cell": "Table of Contents",
   "title_sidebar": "Contents",
   "toc_cell": false,
   "toc_position": {},
   "toc_section_display": true,
   "toc_window_display": false
  },
  "varInspector": {
   "cols": {
    "lenName": 16,
    "lenType": 16,
    "lenVar": 40
   },
   "kernels_config": {
    "python": {
     "delete_cmd_postfix": "",
     "delete_cmd_prefix": "del ",
     "library": "var_list.py",
     "varRefreshCmd": "print(var_dic_list())"
    },
    "r": {
     "delete_cmd_postfix": ") ",
     "delete_cmd_prefix": "rm(",
     "library": "var_list.r",
     "varRefreshCmd": "cat(var_dic_list()) "
    }
   },
   "types_to_exclude": [
    "module",
    "function",
    "builtin_function_or_method",
    "instance",
    "_Feature"
   ],
   "window_display": false
  }
 },
 "nbformat": 4,
 "nbformat_minor": 2
}
