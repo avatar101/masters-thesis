{
 "cells": [
  {
   "cell_type": "code",
   "execution_count": 1,
   "metadata": {},
   "outputs": [],
   "source": [
    "import numpy as np\n",
    "import pandas as pd\n",
    "from datetime import datetime\n",
    "import matplotlib.pyplot as plt\n",
    "from mpl_toolkits.basemap import Basemap\n",
    "from netCDF4 import Dataset\n",
    "from netCDF4 import date2index\n",
    "from datetime import datetime\n",
    "\n",
    "%matplotlib inline\n",
    "\n",
    "from traj_check import trajcheck\n",
    "from traj_plot import traj_plot\n",
    "#traj_plot not working due to problem with basemap\n",
    "\n",
    "from sounding_df import sounding_df as sd\n",
    "from sounding_finder import sounding_finder\n",
    "# Loading sounding data at sheba\n",
    "from sheba_df import sheba_df\n",
    "from meteo import spec_humidity\n",
    "from siphon.simplewebservice.igra2 import IGRAUpperAir\n",
    "\n",
    "path1 = '/home/ollie/muali/Data/winter_all/'\n",
    "path2 = '/home/ollie/muali/data_work/back_traj/Sounding/jan/single_events/all/'"
   ]
  },
  {
   "cell_type": "code",
   "execution_count": 2,
   "metadata": {},
   "outputs": [],
   "source": [
    "date_range_nov = pd.date_range(start='1997-11-01 11:00', end='1997-12-30 11:00', freq='12H')\n",
    "\n",
    "# traj_plot(date_range_nov, path=path1, title='Y', stations='Y', path_save='/work/ollie/muali/plots/rough/',\n",
    "#          save_fig='Y')\n",
    "\n",
    "# plotting all December\n",
    "for d_ in date_range_nov:\n",
    "    traj_plot(d_, path=path1, title='Y', stations='Y', path_save='/work/ollie/muali/plots/rough/',\n",
    "         save_fig='Y')"
   ]
  },
  {
   "cell_type": "code",
   "execution_count": null,
   "metadata": {},
   "outputs": [],
   "source": []
  }
 ],
 "metadata": {
  "kernelspec": {
   "display_name": "Python 3",
   "language": "python",
   "name": "python3"
  },
  "language_info": {
   "codemirror_mode": {
    "name": "ipython",
    "version": 3
   },
   "file_extension": ".py",
   "mimetype": "text/x-python",
   "name": "python",
   "nbconvert_exporter": "python",
   "pygments_lexer": "ipython3",
   "version": "3.6.8"
  },
  "toc": {
   "base_numbering": 1,
   "nav_menu": {},
   "number_sections": true,
   "sideBar": true,
   "skip_h1_title": false,
   "title_cell": "Table of Contents",
   "title_sidebar": "Contents",
   "toc_cell": false,
   "toc_position": {},
   "toc_section_display": true,
   "toc_window_display": false
  },
  "varInspector": {
   "cols": {
    "lenName": 16,
    "lenType": 16,
    "lenVar": 40
   },
   "kernels_config": {
    "python": {
     "delete_cmd_postfix": "",
     "delete_cmd_prefix": "del ",
     "library": "var_list.py",
     "varRefreshCmd": "print(var_dic_list())"
    },
    "r": {
     "delete_cmd_postfix": ") ",
     "delete_cmd_prefix": "rm(",
     "library": "var_list.r",
     "varRefreshCmd": "cat(var_dic_list()) "
    }
   },
   "types_to_exclude": [
    "module",
    "function",
    "builtin_function_or_method",
    "instance",
    "_Feature"
   ],
   "window_display": false
  }
 },
 "nbformat": 4,
 "nbformat_minor": 2
}
